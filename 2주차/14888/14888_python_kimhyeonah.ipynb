{
 "cells": [
  {
   "cell_type": "code",
   "execution_count": null,
   "id": "72db6bba",
   "metadata": {},
   "outputs": [],
   "source": [
    "import sys\n",
    "input = sys.stdin.readline\n",
    "def dfs(idx, result):\n",
    "    global plus, minus, multi, divi\n",
    "    if idx == n:\n",
    "        total.append(result)\n",
    "        return\n",
    "    else:\n",
    "        if plus > 0:\n",
    "            plus -= 1\n",
    "            dfs(idx+1, result+arr[idx])\n",
    "            plus += 1\n",
    "        if minus > 0:\n",
    "            minus -= 1\n",
    "            dfs(idx+1, result-arr[idx])\n",
    "            minus += 1\n",
    "        if multi > 0:\n",
    "            multi -= 1\n",
    "            dfs(idx+1, result*arr[idx])\n",
    "            multi += 1\n",
    "        if divi > 0:\n",
    "            divi -= 1\n",
    "            dfs(idx+1, int(result/arr[idx]))\n",
    "            divi += 1\n",
    "            \n",
    "n = int(input())\n",
    "arr = list(map(int, input().split()))\n",
    "plus, minus, multi, divi = map(int, input().split())\n",
    "total = []\n",
    "\n",
    "dfs(1, arr[0])\n",
    "print(max(total))\n",
    "print(min(total))"
   ]
  }
 ],
 "metadata": {
  "kernelspec": {
   "display_name": "Python 3",
   "language": "python",
   "name": "python3"
  },
  "language_info": {
   "codemirror_mode": {
    "name": "ipython",
    "version": 3
   },
   "file_extension": ".py",
   "mimetype": "text/x-python",
   "name": "python",
   "nbconvert_exporter": "python",
   "pygments_lexer": "ipython3",
   "version": "3.8.2"
  }
 },
 "nbformat": 4,
 "nbformat_minor": 5
}
